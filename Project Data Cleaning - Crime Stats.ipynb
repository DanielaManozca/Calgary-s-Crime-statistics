{
 "cells": [
  {
   "cell_type": "code",
   "execution_count": 132,
   "id": "a56b2731-86a4-4dba-85d4-ecf343e2a8f3",
   "metadata": {},
   "outputs": [],
   "source": [
    "import pandas as pd\n",
    "import numpy as np\n",
    "import matplotlib.pyplot as plt"
   ]
  },
  {
   "cell_type": "code",
   "execution_count": 49,
   "id": "94dbd88b-0ada-4cd2-b95f-204cf7dbcd2a",
   "metadata": {},
   "outputs": [
    {
     "data": {
      "text/html": [
       "<div>\n",
       "<style scoped>\n",
       "    .dataframe tbody tr th:only-of-type {\n",
       "        vertical-align: middle;\n",
       "    }\n",
       "\n",
       "    .dataframe tbody tr th {\n",
       "        vertical-align: top;\n",
       "    }\n",
       "\n",
       "    .dataframe thead th {\n",
       "        text-align: right;\n",
       "    }\n",
       "</style>\n",
       "<table border=\"1\" class=\"dataframe\">\n",
       "  <thead>\n",
       "    <tr style=\"text-align: right;\">\n",
       "      <th></th>\n",
       "      <th>Community</th>\n",
       "      <th>Category</th>\n",
       "      <th>Crime Count</th>\n",
       "      <th>Year</th>\n",
       "      <th>Month</th>\n",
       "    </tr>\n",
       "  </thead>\n",
       "  <tbody>\n",
       "    <tr>\n",
       "      <th>0</th>\n",
       "      <td>01B</td>\n",
       "      <td>Assault (Non-domestic)</td>\n",
       "      <td>1</td>\n",
       "      <td>2022</td>\n",
       "      <td>11</td>\n",
       "    </tr>\n",
       "    <tr>\n",
       "      <th>1</th>\n",
       "      <td>01B</td>\n",
       "      <td>Break &amp; Enter - Commercial</td>\n",
       "      <td>1</td>\n",
       "      <td>2019</td>\n",
       "      <td>6</td>\n",
       "    </tr>\n",
       "    <tr>\n",
       "      <th>2</th>\n",
       "      <td>01B</td>\n",
       "      <td>Break &amp; Enter - Commercial</td>\n",
       "      <td>1</td>\n",
       "      <td>2019</td>\n",
       "      <td>8</td>\n",
       "    </tr>\n",
       "    <tr>\n",
       "      <th>3</th>\n",
       "      <td>01B</td>\n",
       "      <td>Break &amp; Enter - Commercial</td>\n",
       "      <td>2</td>\n",
       "      <td>2020</td>\n",
       "      <td>3</td>\n",
       "    </tr>\n",
       "    <tr>\n",
       "      <th>4</th>\n",
       "      <td>01B</td>\n",
       "      <td>Break &amp; Enter - Commercial</td>\n",
       "      <td>2</td>\n",
       "      <td>2020</td>\n",
       "      <td>7</td>\n",
       "    </tr>\n",
       "  </tbody>\n",
       "</table>\n",
       "</div>"
      ],
      "text/plain": [
       "  Community                    Category  Crime Count  Year  Month\n",
       "0       01B      Assault (Non-domestic)            1  2022     11\n",
       "1       01B  Break & Enter - Commercial            1  2019      6\n",
       "2       01B  Break & Enter - Commercial            1  2019      8\n",
       "3       01B  Break & Enter - Commercial            2  2020      3\n",
       "4       01B  Break & Enter - Commercial            2  2020      7"
      ]
     },
     "execution_count": 49,
     "metadata": {},
     "output_type": "execute_result"
    }
   ],
   "source": [
    "#path=\"C:\\Users\\andre\\Documents\\Msc of Data Science\\Data 601\\Project Gruop\\Community_Crime_Statistics_20250118.csv\"\n",
    "File=\"Community_Crime_Statistics_20250118.csv\"\n",
    "crime_df=pd.read_csv(File)\n",
    "crime_df.head(5)"
   ]
  },
  {
   "cell_type": "code",
   "execution_count": 51,
   "id": "2fae4d7f-4efe-4ea5-822e-30bd404f5679",
   "metadata": {},
   "outputs": [
    {
     "name": "stdout",
     "output_type": "stream",
     "text": [
      "<class 'pandas.core.frame.DataFrame'>\n",
      "RangeIndex: 75595 entries, 0 to 75594\n",
      "Data columns (total 5 columns):\n",
      " #   Column       Non-Null Count  Dtype \n",
      "---  ------       --------------  ----- \n",
      " 0   Community    75595 non-null  object\n",
      " 1   Category     75595 non-null  object\n",
      " 2   Crime Count  75595 non-null  int64 \n",
      " 3   Year         75595 non-null  int64 \n",
      " 4   Month        75595 non-null  int64 \n",
      "dtypes: int64(3), object(2)\n",
      "memory usage: 2.9+ MB\n"
     ]
    }
   ],
   "source": [
    "crime_df.info()"
   ]
  },
  {
   "cell_type": "code",
   "execution_count": 113,
   "id": "0f42eda8-64a8-4f14-8816-77db4fb1bb12",
   "metadata": {},
   "outputs": [
    {
     "name": "stdout",
     "output_type": "stream",
     "text": [
      "Total communities: 300\n"
     ]
    },
    {
     "data": {
      "text/plain": [
       "array(['01B', '01F', '01I', '01K', '02B', '02C', '02E', '02F', '02K',\n",
       "       '02L', '03W', '05D', '05F', '06A', '06B', '06C', '09H', '09K',\n",
       "       '09O', '09P', '09Q', '10D', '10E', '12A', '12B', '12C', '12I',\n",
       "       '12J', '12K', '12L', '13A', '13C', '13E', '13F', '13G', '13M',\n",
       "       'ABBEYDALE', 'ACADIA', 'ALBERT PARK/RADISSON HEIGHTS',\n",
       "       'ALPINE PARK', 'ALTADORE', 'ALYTH/BONNYBROOK', 'AMBLETON',\n",
       "       'APPLEWOOD PARK', 'ARBOUR LAKE', 'ASPEN WOODS', 'AUBURN BAY',\n",
       "       'AURORA BUSINESS PARK', 'BANFF TRAIL', 'BANKVIEW', 'BAYVIEW',\n",
       "       'BEDDINGTON HEIGHTS', 'BEL-AIRE', 'BELMONT', 'BELTLINE',\n",
       "       'BELVEDERE', 'BONAVISTA DOWNS', 'BOWNESS', 'BRAESIDE', 'BRENTWOOD',\n",
       "       'BRIDGELAND/RIVERSIDE', 'BRIDLEWOOD', 'BRITANNIA',\n",
       "       'BURNS INDUSTRIAL', 'CALGARY INTERNATIONAL AIRPORT',\n",
       "       'CAMBRIAN HEIGHTS', 'CANADA OLYMPIC PARK', 'CANYON MEADOWS',\n",
       "       'CAPITOL HILL', 'CARRINGTON', 'CASTLERIDGE', 'CEDARBRAE',\n",
       "       'CHAPARRAL', 'CHARLESWOOD', 'CHINATOWN', 'CHINOOK PARK',\n",
       "       'CHRISTIE PARK', 'CITADEL', 'CITYSCAPE', 'CLIFF BUNGALOW',\n",
       "       'COACH HILL', 'COLLINGWOOD', 'COPPERFIELD', 'CORAL SPRINGS',\n",
       "       'CORNERSTONE', 'COUGAR RIDGE', 'COUNTRY HILLS',\n",
       "       'COUNTRY HILLS VILLAGE', 'COVENTRY HILLS', 'CRANSTON',\n",
       "       'CRESCENT HEIGHTS', 'CRESTMONT', 'CURRIE BARRACKS', 'DALHOUSIE',\n",
       "       'DEER RIDGE', 'DEER RUN', 'DEERFOOT BUSINESS CENTRE',\n",
       "       'DIAMOND COVE', 'DISCOVERY RIDGE', 'DOUGLASDALE/GLEN', 'DOVER',\n",
       "       'DOWNTOWN COMMERCIAL CORE', 'DOWNTOWN EAST VILLAGE',\n",
       "       'DOWNTOWN WEST END', 'EAGLE RIDGE', 'EAST FAIRVIEW INDUSTRIAL',\n",
       "       'EAST SHEPARD INDUSTRIAL', 'EASTFIELD', 'EAU CLAIRE', 'EDGEMONT',\n",
       "       'ELBOW PARK', 'ELBOYA', 'ERIN WOODS', 'ERLTON', 'EVANSTON',\n",
       "       'EVERGREEN', 'FAIRVIEW', 'FAIRVIEW INDUSTRIAL', 'FALCONRIDGE',\n",
       "       'FISH CREEK PARK', 'FOOTHILLS', 'FOREST HEIGHTS', 'FOREST LAWN',\n",
       "       'FOREST LAWN INDUSTRIAL', 'FRANKLIN', 'GARRISON GREEN',\n",
       "       'GARRISON WOODS', 'GLACIER RIDGE', 'GLAMORGAN', 'GLENBROOK',\n",
       "       'GLENDALE', 'GLENDEER BUSINESS PARK', 'GLENMORE PARK',\n",
       "       'GOLDEN TRIANGLE', 'GREAT PLAINS', 'GREENVIEW',\n",
       "       'GREENVIEW INDUSTRIAL PARK', 'GREENWOOD/GREENBRIAR', 'HAMPTONS',\n",
       "       'HARVEST HILLS', 'HASKAYNE', 'HAWKWOOD', 'HAYSBORO',\n",
       "       'HIDDEN VALLEY', 'HIGHFIELD', 'HIGHLAND PARK', 'HIGHWOOD',\n",
       "       'HILLHURST', 'HOMESTEAD', 'HORIZON', 'HOTCHKISS',\n",
       "       'HOUNSFIELD HEIGHTS/BRIAR HILL', 'HUNTINGTON HILLS', 'INGLEWOOD',\n",
       "       'KELVIN GROVE', 'KILLARNEY/GLENGARRY', 'KINCORA', 'KINGSLAND',\n",
       "       'LAKE BONAVISTA', 'LAKEVIEW', 'LEGACY', 'LINCOLN PARK',\n",
       "       'LIVINGSTON', 'LOWER MOUNT ROYAL', 'MACEWAN GLEN', 'MAHOGANY',\n",
       "       'MANCHESTER', 'MANCHESTER INDUSTRIAL', 'MAPLE RIDGE',\n",
       "       'MARLBOROUGH', 'MARLBOROUGH PARK', 'MARTINDALE', 'MAYFAIR',\n",
       "       'MAYLAND', 'MAYLAND HEIGHTS', 'MCCALL', 'MCKENZIE LAKE',\n",
       "       'MCKENZIE TOWNE', 'MEADOWLARK PARK', 'MEDICINE HILL', 'MERIDIAN',\n",
       "       'MIDNAPORE', 'MILLRISE', 'MISSION', 'MONTEREY PARK', 'MONTGOMERY',\n",
       "       'MOUNT PLEASANT', 'NEW BRIGHTON', 'NOLAN HILL', 'NORTH AIRWAYS',\n",
       "       'NORTH GLENMORE PARK', 'NORTH HAVEN', 'NORTH HAVEN UPPER',\n",
       "       'NOSE HILL PARK', 'OAKRIDGE', 'OGDEN', 'OGDEN SHOPS', 'PALLISER',\n",
       "       'PANORAMA HILLS', 'PARKDALE', 'PARKHILL', 'PARKLAND', 'PATTERSON',\n",
       "       'PEGASUS', 'PENBROOKE MEADOWS', 'PINE CREEK', 'PINERIDGE',\n",
       "       'POINT MCKAY', 'PUMP HILL', 'QUEENS PARK VILLAGE', 'QUEENSLAND',\n",
       "       'RAMSAY', 'RANCHLANDS', 'RANGEVIEW', 'RED CARPET', 'REDSTONE',\n",
       "       'RENFREW', 'RICHMOND', 'RIDEAU PARK', 'RIVERBEND', 'ROCKY RIDGE',\n",
       "       'ROSEDALE', 'ROSEMONT', 'ROSSCARROCK', 'ROXBORO', 'ROYAL OAK',\n",
       "       'ROYAL VISTA', 'RUNDLE', 'RUTLAND PARK', 'SADDLE RIDGE',\n",
       "       'SADDLE RIDGE INDUSTRIAL', 'SAGE HILL', 'SANDSTONE VALLEY',\n",
       "       'SCARBORO', 'SCENIC ACRES', 'SECTION 23', 'SETON', 'SHAGANAPPI',\n",
       "       'SHAWNEE SLOPES', 'SHAWNESSY', 'SHEPARD INDUSTRIAL', 'SHERWOOD',\n",
       "       'SIGNAL HILL', 'SILVER SPRINGS', 'SILVERADO', 'SKYLINE EAST',\n",
       "       'SKYLINE WEST', 'SKYVIEW RANCH', 'SOMERSET', 'SOUTH AIRWAYS',\n",
       "       'SOUTH CALGARY', 'SOUTH FOOTHILLS', 'SOUTHVIEW', 'SOUTHWOOD',\n",
       "       'SPRINGBANK HILL', 'SPRUCE CLIFF', 'ST. ANDREWS HEIGHTS',\n",
       "       'STARFIELD', 'STONEGATE LANDING', 'STONEY 1', 'STONEY 2',\n",
       "       'STONEY 3', 'STONEY 4', 'STRATHCONA PARK', 'SUNALTA', 'SUNDANCE',\n",
       "       'SUNNYSIDE', 'SUNRIDGE', 'SYMONS VALLEY RANCH', 'TARADALE',\n",
       "       'TEMPLE', 'THORNCLIFFE', 'TUSCANY', 'TUXEDO PARK', 'TWINHILLS',\n",
       "       'UNIVERSITY DISTRICT', 'UNIVERSITY HEIGHTS',\n",
       "       'UNIVERSITY OF CALGARY', 'UPPER MOUNT ROYAL', 'VALLEY RIDGE',\n",
       "       'VALLEYFIELD', 'VARSITY', 'VISTA HEIGHTS', 'WALDEN',\n",
       "       'WEST HILLHURST', 'WEST SPRINGS', 'WESTGATE', 'WESTWINDS',\n",
       "       'WHITEHORN', 'WILDWOOD', 'WILLOW PARK', 'WINDSOR PARK',\n",
       "       'WINSTON HEIGHTS/MOUNTVIEW', 'WOLF WILLOW', 'WOODBINE',\n",
       "       'WOODLANDS', 'YORKVILLE', 'SCARBORO/ SUNALTA WEST', '01H',\n",
       "       'LEWISBURG'], dtype=object)"
      ]
     },
     "metadata": {},
     "output_type": "display_data"
    }
   ],
   "source": [
    "#How many communities has crime records?\n",
    "Community_name=crime_df['Community'].dropna().unique()\n",
    "Total_Community_name=len(Community_name)\n",
    "print(\"Total communities:\",Total_Community_name)\n",
    "\n",
    "#Recognizing the communities \n",
    "display(Community_name)"
   ]
  },
  {
   "cell_type": "code",
   "execution_count": 93,
   "id": "8080fc41-8e71-4afa-99f0-31f01062f013",
   "metadata": {},
   "outputs": [
    {
     "name": "stdout",
     "output_type": "stream",
     "text": [
      "Total crime categories: 9\n",
      "These are the crime categories whithin the dataset:\n",
      "\n"
     ]
    },
    {
     "data": {
      "text/plain": [
       "array(['Assault (Non-domestic)', 'Break & Enter - Commercial',\n",
       "       'Break & Enter - Dwelling', 'Theft FROM Vehicle',\n",
       "       'Theft OF Vehicle', \"Violence\\xa0 'Other' (Non-domestic)\",\n",
       "       'Street Robbery', 'Commercial Robbery',\n",
       "       'Break & Enter - Other Premises'], dtype=object)"
      ]
     },
     "metadata": {},
     "output_type": "display_data"
    }
   ],
   "source": [
    "#How many crime categories has this data set?\n",
    "Crime_cat=crime_df['Category'].dropna().unique()\n",
    "Total_Crime_cat=len(Crime_cat)\n",
    "print(\"Total crime categories:\",Total_Crime_cat)\n",
    "\n",
    "#Recognizing the crime categories\n",
    "print(\"These are the crime categories whithin the dataset:\\n\")\n",
    "display(Crime_cat)\n",
    "\n"
   ]
  },
  {
   "cell_type": "code",
   "execution_count": 95,
   "id": "a6072dfa-543d-46fa-86fc-d8e2cfef2890",
   "metadata": {},
   "outputs": [
    {
     "name": "stdout",
     "output_type": "stream",
     "text": [
      "These are the years reported in the database: [2018 2019 2020 2021 2022 2023 2024]\n",
      "These are the months reported in the database: [ 1  2  3  4  5  6  7  8  9 10 11 12]\n",
      "All month entries are valid\n"
     ]
    }
   ],
   "source": [
    "#Does the datframe have invalid values in the Month and Year Columns?\n",
    "Year_values=np.sort(crime_df['Year'].dropna().unique())\n",
    "print(\"These are the years reported in the database:\", Year_values)\n",
    "\n",
    "Month_Values=np.sort(crime_df['Month'].dropna().unique())\n",
    "print(\"These are the months reported in the database:\", Month_Values)\n",
    "\n",
    "if np.all((Month_Values>0) & (Month_Values<13)):\n",
    "    print(\"All month entries are valid\")\n",
    "else:\n",
    "    (\"There are invalid entries, please correct the data\")\n",
    "\n"
   ]
  },
  {
   "cell_type": "code",
   "execution_count": 97,
   "id": "4e560a88-c0fc-4286-96a6-219b57bb9170",
   "metadata": {},
   "outputs": [
    {
     "name": "stdout",
     "output_type": "stream",
     "text": [
      "Missing values:\n",
      "\n"
     ]
    },
    {
     "data": {
      "text/plain": [
       "Community      0\n",
       "Category       0\n",
       "Crime Count    0\n",
       "Year           0\n",
       "Month          0\n",
       "dtype: int64"
      ]
     },
     "execution_count": 97,
     "metadata": {},
     "output_type": "execute_result"
    }
   ],
   "source": [
    "#Do we have crime records with missing values?\n",
    "\n",
    "print(\"Missing values:\\n\")\n",
    "crime_df.isna().sum()"
   ]
  },
  {
   "cell_type": "markdown",
   "id": "7a05c263-fb7f-4f6e-8e6d-ca58a1e67986",
   "metadata": {},
   "source": [
    "# Data Transformation\n",
    "With the previous findings, a crime category will be renamed\n",
    "The number of entries relate to residual communities will be checked to see if we exclude those from the analys.\n",
    "A regex validations mas be done with the community names."
   ]
  },
  {
   "cell_type": "code",
   "execution_count": 111,
   "id": "466a1d0a-9a82-4275-a694-b57bf218b6ff",
   "metadata": {},
   "outputs": [
    {
     "data": {
      "text/html": [
       "<div>\n",
       "<style scoped>\n",
       "    .dataframe tbody tr th:only-of-type {\n",
       "        vertical-align: middle;\n",
       "    }\n",
       "\n",
       "    .dataframe tbody tr th {\n",
       "        vertical-align: top;\n",
       "    }\n",
       "\n",
       "    .dataframe thead th {\n",
       "        text-align: right;\n",
       "    }\n",
       "</style>\n",
       "<table border=\"1\" class=\"dataframe\">\n",
       "  <thead>\n",
       "    <tr style=\"text-align: right;\">\n",
       "      <th></th>\n",
       "      <th>Community</th>\n",
       "      <th>Category</th>\n",
       "      <th>Crime Count</th>\n",
       "      <th>Year</th>\n",
       "      <th>Month</th>\n",
       "    </tr>\n",
       "  </thead>\n",
       "  <tbody>\n",
       "    <tr>\n",
       "      <th>75585</th>\n",
       "      <td>CORNERSTONE</td>\n",
       "      <td>Violence (Non-domestic)</td>\n",
       "      <td>1</td>\n",
       "      <td>2021</td>\n",
       "      <td>6</td>\n",
       "    </tr>\n",
       "    <tr>\n",
       "      <th>75586</th>\n",
       "      <td>CORNERSTONE</td>\n",
       "      <td>Violence (Non-domestic)</td>\n",
       "      <td>1</td>\n",
       "      <td>2021</td>\n",
       "      <td>7</td>\n",
       "    </tr>\n",
       "    <tr>\n",
       "      <th>75587</th>\n",
       "      <td>CORNERSTONE</td>\n",
       "      <td>Violence (Non-domestic)</td>\n",
       "      <td>2</td>\n",
       "      <td>2021</td>\n",
       "      <td>8</td>\n",
       "    </tr>\n",
       "    <tr>\n",
       "      <th>75588</th>\n",
       "      <td>CORNERSTONE</td>\n",
       "      <td>Violence (Non-domestic)</td>\n",
       "      <td>1</td>\n",
       "      <td>2022</td>\n",
       "      <td>1</td>\n",
       "    </tr>\n",
       "    <tr>\n",
       "      <th>75589</th>\n",
       "      <td>CORNERSTONE</td>\n",
       "      <td>Violence (Non-domestic)</td>\n",
       "      <td>1</td>\n",
       "      <td>2022</td>\n",
       "      <td>3</td>\n",
       "    </tr>\n",
       "    <tr>\n",
       "      <th>75590</th>\n",
       "      <td>CORNERSTONE</td>\n",
       "      <td>Violence (Non-domestic)</td>\n",
       "      <td>1</td>\n",
       "      <td>2022</td>\n",
       "      <td>6</td>\n",
       "    </tr>\n",
       "    <tr>\n",
       "      <th>75591</th>\n",
       "      <td>CORNERSTONE</td>\n",
       "      <td>Violence (Non-domestic)</td>\n",
       "      <td>1</td>\n",
       "      <td>2022</td>\n",
       "      <td>8</td>\n",
       "    </tr>\n",
       "    <tr>\n",
       "      <th>75592</th>\n",
       "      <td>CORNERSTONE</td>\n",
       "      <td>Violence (Non-domestic)</td>\n",
       "      <td>1</td>\n",
       "      <td>2023</td>\n",
       "      <td>2</td>\n",
       "    </tr>\n",
       "    <tr>\n",
       "      <th>75593</th>\n",
       "      <td>CORNERSTONE</td>\n",
       "      <td>Violence (Non-domestic)</td>\n",
       "      <td>1</td>\n",
       "      <td>2023</td>\n",
       "      <td>7</td>\n",
       "    </tr>\n",
       "    <tr>\n",
       "      <th>75594</th>\n",
       "      <td>CORNERSTONE</td>\n",
       "      <td>Violence (Non-domestic)</td>\n",
       "      <td>1</td>\n",
       "      <td>2023</td>\n",
       "      <td>12</td>\n",
       "    </tr>\n",
       "  </tbody>\n",
       "</table>\n",
       "</div>"
      ],
      "text/plain": [
       "         Community                 Category  Crime Count  Year  Month\n",
       "75585  CORNERSTONE  Violence (Non-domestic)            1  2021      6\n",
       "75586  CORNERSTONE  Violence (Non-domestic)            1  2021      7\n",
       "75587  CORNERSTONE  Violence (Non-domestic)            2  2021      8\n",
       "75588  CORNERSTONE  Violence (Non-domestic)            1  2022      1\n",
       "75589  CORNERSTONE  Violence (Non-domestic)            1  2022      3\n",
       "75590  CORNERSTONE  Violence (Non-domestic)            1  2022      6\n",
       "75591  CORNERSTONE  Violence (Non-domestic)            1  2022      8\n",
       "75592  CORNERSTONE  Violence (Non-domestic)            1  2023      2\n",
       "75593  CORNERSTONE  Violence (Non-domestic)            1  2023      7\n",
       "75594  CORNERSTONE  Violence (Non-domestic)            1  2023     12"
      ]
     },
     "execution_count": 111,
     "metadata": {},
     "output_type": "execute_result"
    }
   ],
   "source": [
    "crime_df['Category']=crime_df['Category'].replace(\"Violence\\xa0 'Other' (Non-domestic)\",\"Violence (Non-domestic)\")\n",
    "crime_df.tail(10)"
   ]
  },
  {
   "cell_type": "code",
   "execution_count": 166,
   "id": "b004778e-6be4-40f7-8537-e78ceecb0b02",
   "metadata": {},
   "outputs": [
    {
     "data": {
      "text/html": [
       "<div>\n",
       "<style scoped>\n",
       "    .dataframe tbody tr th:only-of-type {\n",
       "        vertical-align: middle;\n",
       "    }\n",
       "\n",
       "    .dataframe tbody tr th {\n",
       "        vertical-align: top;\n",
       "    }\n",
       "\n",
       "    .dataframe thead th {\n",
       "        text-align: right;\n",
       "    }\n",
       "</style>\n",
       "<table border=\"1\" class=\"dataframe\">\n",
       "  <thead>\n",
       "    <tr style=\"text-align: right;\">\n",
       "      <th></th>\n",
       "      <th>Community</th>\n",
       "      <th>Category</th>\n",
       "      <th>Crime Count</th>\n",
       "      <th>Year</th>\n",
       "      <th>Month</th>\n",
       "      <th>Community Type</th>\n",
       "    </tr>\n",
       "  </thead>\n",
       "  <tbody>\n",
       "    <tr>\n",
       "      <th>0</th>\n",
       "      <td>01B</td>\n",
       "      <td>Assault (Non-domestic)</td>\n",
       "      <td>1</td>\n",
       "      <td>2022</td>\n",
       "      <td>11</td>\n",
       "      <td>Residual</td>\n",
       "    </tr>\n",
       "    <tr>\n",
       "      <th>1</th>\n",
       "      <td>01B</td>\n",
       "      <td>Break &amp; Enter - Commercial</td>\n",
       "      <td>1</td>\n",
       "      <td>2019</td>\n",
       "      <td>6</td>\n",
       "      <td>Residual</td>\n",
       "    </tr>\n",
       "    <tr>\n",
       "      <th>2</th>\n",
       "      <td>01B</td>\n",
       "      <td>Break &amp; Enter - Commercial</td>\n",
       "      <td>1</td>\n",
       "      <td>2019</td>\n",
       "      <td>8</td>\n",
       "      <td>Residual</td>\n",
       "    </tr>\n",
       "  </tbody>\n",
       "</table>\n",
       "</div>"
      ],
      "text/plain": [
       "  Community                    Category  Crime Count  Year  Month  \\\n",
       "0       01B      Assault (Non-domestic)            1  2022     11   \n",
       "1       01B  Break & Enter - Commercial            1  2019      6   \n",
       "2       01B  Break & Enter - Commercial            1  2019      8   \n",
       "\n",
       "  Community Type  \n",
       "0       Residual  \n",
       "1       Residual  \n",
       "2       Residual  "
      ]
     },
     "metadata": {},
     "output_type": "display_data"
    },
    {
     "data": {
      "text/html": [
       "<div>\n",
       "<style scoped>\n",
       "    .dataframe tbody tr th:only-of-type {\n",
       "        vertical-align: middle;\n",
       "    }\n",
       "\n",
       "    .dataframe tbody tr th {\n",
       "        vertical-align: top;\n",
       "    }\n",
       "\n",
       "    .dataframe thead th {\n",
       "        text-align: right;\n",
       "    }\n",
       "</style>\n",
       "<table border=\"1\" class=\"dataframe\">\n",
       "  <thead>\n",
       "    <tr style=\"text-align: right;\">\n",
       "      <th></th>\n",
       "      <th>Community</th>\n",
       "      <th>Category</th>\n",
       "      <th>Crime Count</th>\n",
       "      <th>Year</th>\n",
       "      <th>Month</th>\n",
       "      <th>Community Type</th>\n",
       "    </tr>\n",
       "  </thead>\n",
       "  <tbody>\n",
       "    <tr>\n",
       "      <th>75592</th>\n",
       "      <td>CORNERSTONE</td>\n",
       "      <td>Violence (Non-domestic)</td>\n",
       "      <td>1</td>\n",
       "      <td>2023</td>\n",
       "      <td>2</td>\n",
       "      <td>City</td>\n",
       "    </tr>\n",
       "    <tr>\n",
       "      <th>75593</th>\n",
       "      <td>CORNERSTONE</td>\n",
       "      <td>Violence (Non-domestic)</td>\n",
       "      <td>1</td>\n",
       "      <td>2023</td>\n",
       "      <td>7</td>\n",
       "      <td>City</td>\n",
       "    </tr>\n",
       "    <tr>\n",
       "      <th>75594</th>\n",
       "      <td>CORNERSTONE</td>\n",
       "      <td>Violence (Non-domestic)</td>\n",
       "      <td>1</td>\n",
       "      <td>2023</td>\n",
       "      <td>12</td>\n",
       "      <td>City</td>\n",
       "    </tr>\n",
       "  </tbody>\n",
       "</table>\n",
       "</div>"
      ],
      "text/plain": [
       "         Community                 Category  Crime Count  Year  Month  \\\n",
       "75592  CORNERSTONE  Violence (Non-domestic)            1  2023      2   \n",
       "75593  CORNERSTONE  Violence (Non-domestic)            1  2023      7   \n",
       "75594  CORNERSTONE  Violence (Non-domestic)            1  2023     12   \n",
       "\n",
       "      Community Type  \n",
       "75592           City  \n",
       "75593           City  \n",
       "75594           City  "
      ]
     },
     "metadata": {},
     "output_type": "display_data"
    },
    {
     "name": "stdout",
     "output_type": "stream",
     "text": [
      "Total crime events in the dataset: 75595\n",
      "Total crime events ocurred in residual communities: 1013\n",
      "Crimes in res. communities represents only: 1.34 % - in the last 5 years\n"
     ]
    }
   ],
   "source": [
    "#Since we want to verify the impact of residual communities, we are adding a new column to categorize the communities\n",
    "crime_df['Community Type'] = np.where(crime_df['Community'].str[0].str.isdigit(), 'Residual', 'City')\n",
    "display(crime_df.head(3), crime_df.tail(3))\n",
    "\n",
    "#Now, we will calculate a general crime percentage\n",
    "count_community=crime_df['Community'].value_counts()\n",
    "count_community=count_community.sum()\n",
    "print(\"Total crime events in the dataset:\",count_community)\n",
    "\n",
    "count_residual = crime_df[crime_df['Community Type'] == 'Residual']['Community Type'].value_counts()\n",
    "count_residual=count_residual.sum()\n",
    "print(\"Total crime events ocurred in residual communities:\",count_residual)\n",
    "\n",
    "perc_residual=round((count_residual/count_community)*100,4)\n",
    "print(\"Crimes in res. communities represents only:\", perc_residual,\"% - in the last 5 years\") # I think we can exclude this areas from the analysis\n"
   ]
  },
  {
   "cell_type": "code",
   "execution_count": null,
   "id": "ace03974-59bf-44ca-b77e-1537e9be72a5",
   "metadata": {},
   "outputs": [],
   "source": []
  }
 ],
 "metadata": {
  "kernelspec": {
   "display_name": "Python [conda env:base] *",
   "language": "python",
   "name": "conda-base-py"
  },
  "language_info": {
   "codemirror_mode": {
    "name": "ipython",
    "version": 3
   },
   "file_extension": ".py",
   "mimetype": "text/x-python",
   "name": "python",
   "nbconvert_exporter": "python",
   "pygments_lexer": "ipython3",
   "version": "3.12.7"
  }
 },
 "nbformat": 4,
 "nbformat_minor": 5
}
